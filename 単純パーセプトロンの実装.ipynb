{
  "nbformat": 4,
  "nbformat_minor": 0,
  "metadata": {
    "colab": {
      "provenance": [],
      "collapsed_sections": [
        "pk0PcTJV5Uap",
        "lcR-EqhH5eEY",
        "P66BRqD05tJl"
      ],
      "include_colab_link": true
    },
    "kernelspec": {
      "name": "python3",
      "display_name": "Python 3"
    },
    "language_info": {
      "name": "python"
    }
  },
  "cells": [
    {
      "cell_type": "markdown",
      "metadata": {
        "id": "view-in-github",
        "colab_type": "text"
      },
      "source": [
        "<a href=\"https://colab.research.google.com/github/mikio-bonjour/Python_code/blob/%E5%BE%AE%E5%88%86%E7%A9%8D%E5%88%86/%E5%8D%98%E7%B4%94%E3%83%8F%E3%82%9A%E3%83%BC%E3%82%BB%E3%83%95%E3%82%9A%E3%83%88%E3%83%AD%E3%83%B3%E3%81%AE%E5%AE%9F%E8%A3%85.ipynb\" target=\"_parent\"><img src=\"https://colab.research.google.com/assets/colab-badge.svg\" alt=\"Open In Colab\"/></a>"
      ]
    },
    {
      "cell_type": "markdown",
      "source": [
        "# はじめに\n",
        "1. **Google Colaboratory** とは？\n",
        "\n",
        "   * **Google Colaboratory**（以下 *Colab*）は、ウェブブラウザ上で Python コードを書いて実行できる無料のサービスです。\n",
        "   * プログラムの実行は、各セルを選択して <kbd>Shift</kbd>+<kbd>Enter</kbd> または <kbd>Ctrl</kbd>+<kbd>Enter</kbd> で行います。\n",
        "2.このノートブックはColabの基本操作と、コードを実行するための前提知識をまとめたガイドです。  \n",
        "\n",
        "<br>\n",
        "\n",
        "\n",
        "---\n",
        "\n",
        "# 1. セルとは？\n",
        "\n",
        "Colab のノートブックは「セル」という単位で構成されています。主に次の2種類があります。\n",
        "\n",
        "| セルの種類 | 主な用途         | 特徴                   |\n",
        "|------------|------------------|------------------------|\n",
        "| テキストセル | 解説・注釈・見出し | Markdown で記述される |\n",
        "| コードセル   | Python のコード   | 左端に ▶ ボタンが表示される |**太字**\n",
        "\n",
        "\n",
        "<br>\n",
        "\n",
        "\n",
        "---\n",
        "\n",
        "# 2. コードセルの実行方法\n",
        "\n",
        "コードセルに書かれたプログラムは、次のいずれかの操作で実行できます。\n",
        "\n",
        "| 操作方法           | 内容                                       |\n",
        "|--------------------|--------------------------------------------|\n",
        "| ▶ ボタンをクリック | セル単体を実行                            |\n",
        "| `Shift + Enter`    | 実行後、次のセルへ移動                    |\n",
        "| `Ctrl + Enter`     | 実行後、同じセルにとどまる                |\n",
        "\n",
        "実行中は左端のインジケータが回転表示になり、完了後は出力（数値・表・グラフなど）がセルの下に表示されます。\n",
        "\n",
        "> **⚠️実行順序に注意**  \n",
        "> ノートブックは「上から順に」実行することを前提としています。  \n",
        "> 前のセルを飛ばすと、変数や関数が定義されておらず、エラーになる場合があります。\n",
        "\n",
        "<br>\n",
        "\n",
        "\n",
        "---\n",
        "\n",
        "# 3. コード理解のための前提知識\n",
        "\n",
        "## 3.1 ライブラリとは？\n",
        "\n",
        "ライブラリとは、特定の機能をまとめた部品群です。  \n",
        "たとえば、数値計算やグラフ描画など、よく使う機能を簡単に呼び出すことができます。\n",
        "\n",
        "例：\n",
        "```python\n",
        "import numpy as np\n",
        "```\n",
        ">これは、「numpy という 数値計算用の道具箱 を、今後 np という短い名前で使いますよ」という宣言です。\n",
        "\n",
        "## 3.2 `!pip install` とは？\n",
        "\n",
        "Colab には、NumPy や Pandas、Matplotlib など、よく使われる主要なライブラリが **あらかじめインストール** されています。\n",
        "\n",
        "そのため、以下のような記述がノートブック内にあっても、**通常は実行不要**です。\n",
        "\n",
        "```python\n",
        "# !pip install numpy\n",
        "```\n",
        ">ただし、追加で特定のライブラリが必要な場合や、バージョンを指定してインストールしたい場合にはこのコマンドを使用します。\\\n",
        "ノートブックの中に「!pip install のコメントアウトを外してください」などの指示があるときは ```#``` を消去し、コードを実行してください。\n",
        "\n",
        "<br>\n",
        "\n",
        "---\n",
        "\n",
        "# 4.コードの実行と進め方\n",
        "\n",
        "1. 本ガイドを一読して全体像を掴む。\n",
        "2. 以下、タイトルに含まれているコードセルを順番に実行。\n",
        "\n",
        " **⚠️ セルの階層構造に関する注意事項**\n",
        ">Colabの仕様により、本ノートブックのように見出し（```#``` がついたテキスト）を作成すると、後続のコードセルが階層化され、折りたたまれている場合があります。\\\n",
        ">もしコードセルが非表示になっている場合は、実行前に該当の見出しの左側にある ```> ``` マークをクリックして、セルを展開（表示）してください。\n",
        "3. 各セルの出力結果を確認し、処理内容を理解する。\n",
        "\n",
        "4. 学習の補助に：コードを自由にアレンジ\n",
        "\n",
        "   * 3D グラフの回転など、視覚的に動かしてみることで、理解を深めることができます。\n",
        "   * 数値やパラメータを少し変えてみたり、描画の設定を変えてみたりして、結果の違いを観察してください。\n",
        "\n",
        "5. AI 活用のすすめ\n",
        "\n",
        "   * コードの改変方法がわからない場合は、Gemini や他の AI アシスタントなどを活用し、コードをアレンジしてみてください。\n",
        "   * 独自の数値実験や可視化を行うことで、より深く学習内容を理解できるはずです。\n",
        "\n",
        "<br>\n",
        "\n",
        "---\n",
        "# 補足：ランタイムに関する注意点\n",
        "Colabでコードを実行すると、その裏側では「ランタイム」と呼ばれる計算用のエンジンが動いています。\n",
        "\n",
        "このランタイムの性質により、**変数やデータは永続的ではありません。**\n",
        "\n",
        "* 接続の切断 |     ノートブックを開いたまま長時間操作しなかったり、ブラウザを閉じたりすると、ランタイムへの接続は自動で切断されます。\n",
        "\n",
        "* ランタイムのリセット｜メニューバーの「ランタイム」 > 「ランタイムの接続を解除して削除」を選択すると、初期化できます。（動作がおかしくなった際に有効です）\n",
        "\n",
        "いずれの場合も、それまでに定義した変数やメモリ上のデータはすべて消えてしまいます。\n",
        "\n",
        "接続が切れたりリセットしたりした後は、必ずノートブックのセルを最初から順番に実行し直してください。"
      ],
      "metadata": {
        "id": "ocDAbhbzC2Ug"
      }
    },
    {
      "cell_type": "markdown",
      "source": [
        "# 単純パーセプトロンを 3 通りで実装\n",
        "- **パターン A** : 単純に Python (`math`)で計算\n",
        "- **パターン B** : NumPy でベクトル化\n",
        "- **パターン C** : PyTorch で層を宣言  \n",
        "それぞれで **ŷ ≈ 0.8808** の出力結果が得られるか確認します。"
      ],
      "metadata": {
        "id": "kzwpkGM15Keo"
      }
    },
    {
      "cell_type": "markdown",
      "source": [
        "## パターン A — 単純に Python で計算\n",
        "- **重み付き和 → シグモイド** をそのまま書く\n",
        "- 手計算との 1:1 対応を確認するのが目的"
      ],
      "metadata": {
        "id": "pk0PcTJV5Uap"
      }
    },
    {
      "cell_type": "code",
      "execution_count": null,
      "metadata": {
        "colab": {
          "base_uri": "https://localhost:8080/"
        },
        "id": "Cdr4ZVWZy3Ye",
        "outputId": "02804251-d6aa-4189-e2e6-d3d516140a05"
      },
      "outputs": [
        {
          "output_type": "stream",
          "name": "stdout",
          "text": [
            "z = 2.0\n",
            "ŷ = 0.880797\n"
          ]
        }
      ],
      "source": [
        "import math\n",
        "\n",
        "def sigmoid(z: float) -> float:\n",
        "    \"\"\"\n",
        "  標準ロジスティックシグモイド活性化関数の定義\n",
        "    \"\"\"\n",
        "    return 1 / (1 + math.exp(-z))\n",
        "\n",
        "def perceptron(inputs, weights, activation=sigmoid):\n",
        "    \"\"\"\n",
        "    単一ニューロン（パーセプトロン）の出力を計算する。\n",
        "      inputs  : x0, x1, …  （バイアス項を含む）\n",
        "      weights : w0, w1, …\n",
        "      activation : 活性化関数（デフォルト: シグモイド）\n",
        "    戻り値は (線形結合 z, 出力 \\hat{y})\n",
        "    \"\"\"\n",
        "    z = sum(i * w for i, w in zip(inputs, weights))\n",
        "    return z, activation(z)\n",
        "\n",
        "x = [1.0, 2.0, -1.0]     # x0=1 (バイアス), x1=2, x2=-1\n",
        "w = [-1.0, 2.0, 1.0]     # w0=-1, w1=2, w2=1\n",
        "\n",
        "z_val, y_hat = perceptron(x, w)\n",
        "\n",
        "print(f\"z = {z_val}\")        # -> 2.0\n",
        "print(f\"ŷ = {y_hat:.6f}\")    # -> 0.880797\n"
      ]
    },
    {
      "cell_type": "markdown",
      "source": [
        "## パターン B — NumPy でベクトル／バッチ対応\n",
        "- 行列積 `@` が **線形層** と同じ働きになる\n",
        "- 「バッチ（複数サンプル）」を一括処理する例で示す\n"
      ],
      "metadata": {
        "id": "lcR-EqhH5eEY"
      }
    },
    {
      "cell_type": "code",
      "source": [
        "import numpy as np\n",
        "\n",
        "x = np.array([1.0, 2.0, -1.0])\n",
        "w = np.array([-1.0, 2.0, 1.0])\n",
        "\n",
        "z = x @ w\n",
        "y = 1 / (1 + np.exp(-z))\n",
        "\n",
        "# ─ バッチ計算例 ───────────────────\n",
        "X_batch = np.array([\n",
        "    [1.0, 2.0, -1.0],  # サンプル1\n",
        "    [0.5, 1.5, 2.0],   # サンプル2\n",
        "    [3.0, -1.0, 0.0]   # サンプル3\n",
        "])\n",
        "Z = X_batch @ w\n",
        "Y = 1 / (1 + np.exp(-Z))\n",
        "print(Y)"
      ],
      "metadata": {
        "id": "nJuSDQ3iy4UT"
      },
      "execution_count": null,
      "outputs": []
    },
    {
      "cell_type": "markdown",
      "source": [
        "## パターン C — PyTorch で層を宣言\n",
        "- `nn.Linear` が **w·x + b**, `nn.Sigmoid` が活性化\n",
        "- Colab は PyTorch がプリインストール済み\n",
        "- 乱数初期化を避けるため **手動で重み・バイアスを設定* する"
      ],
      "metadata": {
        "id": "P66BRqD05tJl"
      }
    },
    {
      "cell_type": "code",
      "source": [
        "import torch\n",
        "import torch.nn as nn\n",
        "\n",
        "# 手動で設定するパラメータ（重み w1, w2 と バイアス w0）\n",
        "w0, w1, w2 = -1.0, 2.0, 1.0\n",
        "\n",
        "# 入力データ x: 2次元特徴量を持つサンプルが1つだけある (batch=1, features=2)\n",
        "# ここではバイアス項は含まず、単純に2次元の実数値のみ\n",
        "x = torch.tensor([[2.0, -1.0]])  # shape: (1, 2)\n",
        "\n",
        "# nn.Sequential:\n",
        "# - まず nn.Linear(2, 1, bias=True) で入力2次元、出力1次元の線形変換を定義\n",
        "# - 続いて nn.Sigmoid() で活性化関数としてシグモイドを適用\n",
        "model = nn.Sequential(\n",
        "    nn.Linear(2, 1, bias=True),\n",
        "    nn.Sigmoid()\n",
        ")\n",
        "\n",
        "# with torch.no_grad(): を使うことで、以下の操作で\n",
        "# PyTorch が勾配を追跡しないようにする（トレーニング目的ではないので不要）\n",
        "with torch.no_grad():\n",
        "    # model[0] は nn.Sequential(...) の一番目の層 (nn.Linear(2, 1, bias=True))\n",
        "    # weight.copy_() で、重みの値を手動で [ [w1, w2] ] にコピー\n",
        "    # shape を (1,2) として対応させる\n",
        "    model[0].weight.copy_(torch.tensor([[w1, w2]]))\n",
        "\n",
        "    # bias.copy_() で、バイアスの値を手動で [w0] にコピー\n",
        "    # shape を (1,) として対応させる\n",
        "    model[0].bias.copy_(torch.tensor([w0]))\n",
        "\n",
        "# 設定したパラメータでモデルを実行する\n",
        "y_hat = model(x)\n",
        "\n",
        "# テンソル（単一スカラー）の値を Python の float として取得して表示\n",
        "print(y_hat.item())"
      ],
      "metadata": {
        "id": "JOiClA2J2RtP"
      },
      "execution_count": null,
      "outputs": []
    }
  ]
}